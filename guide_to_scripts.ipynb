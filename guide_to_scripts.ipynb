{
 "cells": [
  {
   "cell_type": "code",
   "execution_count": 50,
   "metadata": {},
   "outputs": [],
   "source": [
    "import pandas as pd\n",
    "import numpy as np\n",
    "import data_browsing\n",
    "from tqdm.notebook import tqdm"
   ]
  },
  {
   "cell_type": "markdown",
   "metadata": {},
   "source": [
    "This is a guide to the data_browsing and cluster_testing scripts."
   ]
  },
  {
   "cell_type": "markdown",
   "metadata": {},
   "source": [
    "The main data we have is called \"pairs_counts.csv\""
   ]
  },
  {
   "cell_type": "markdown",
   "metadata": {},
   "source": [
    "# Data Browsing"
   ]
  },
  {
   "cell_type": "code",
   "execution_count": 6,
   "metadata": {},
   "outputs": [
    {
     "name": "stderr",
     "output_type": "stream",
     "text": [
      "C:\\Users\\Anthony\\Anaconda3\\lib\\site-packages\\numpy\\lib\\arraysetops.py:568: FutureWarning: elementwise comparison failed; returning scalar instead, but in the future will perform elementwise comparison\n",
      "  mask |= (ar1 == a)\n"
     ]
    }
   ],
   "source": [
    "pairs_counts = pd.read_csv(\"pairs_counts.csv\", index_col= 0)"
   ]
  },
  {
   "cell_type": "code",
   "execution_count": 7,
   "metadata": {},
   "outputs": [
    {
     "data": {
      "text/html": [
       "<div>\n",
       "<style scoped>\n",
       "    .dataframe tbody tr th:only-of-type {\n",
       "        vertical-align: middle;\n",
       "    }\n",
       "\n",
       "    .dataframe tbody tr th {\n",
       "        vertical-align: top;\n",
       "    }\n",
       "\n",
       "    .dataframe thead th {\n",
       "        text-align: right;\n",
       "    }\n",
       "</style>\n",
       "<table border=\"1\" class=\"dataframe\">\n",
       "  <thead>\n",
       "    <tr style=\"text-align: right;\">\n",
       "      <th></th>\n",
       "      <th>aspects</th>\n",
       "      <th>opinions</th>\n",
       "      <th>samples</th>\n",
       "    </tr>\n",
       "  </thead>\n",
       "  <tbody>\n",
       "    <tr>\n",
       "      <td>0</td>\n",
       "      <td>service</td>\n",
       "      <td>great</td>\n",
       "      <td>153103</td>\n",
       "    </tr>\n",
       "    <tr>\n",
       "      <td>1</td>\n",
       "      <td>food</td>\n",
       "      <td>great</td>\n",
       "      <td>140756</td>\n",
       "    </tr>\n",
       "    <tr>\n",
       "      <td>2</td>\n",
       "      <td>food</td>\n",
       "      <td>good</td>\n",
       "      <td>127177</td>\n",
       "    </tr>\n",
       "    <tr>\n",
       "      <td>3</td>\n",
       "      <td>place</td>\n",
       "      <td>great</td>\n",
       "      <td>76266</td>\n",
       "    </tr>\n",
       "    <tr>\n",
       "      <td>4</td>\n",
       "      <td>service</td>\n",
       "      <td>good</td>\n",
       "      <td>68191</td>\n",
       "    </tr>\n",
       "    <tr>\n",
       "      <td>5</td>\n",
       "      <td>food</td>\n",
       "      <td>delicious</td>\n",
       "      <td>64893</td>\n",
       "    </tr>\n",
       "    <tr>\n",
       "      <td>6</td>\n",
       "      <td>food</td>\n",
       "      <td>amazing</td>\n",
       "      <td>60859</td>\n",
       "    </tr>\n",
       "    <tr>\n",
       "      <td>7</td>\n",
       "      <td>service</td>\n",
       "      <td>excellent</td>\n",
       "      <td>56057</td>\n",
       "    </tr>\n",
       "    <tr>\n",
       "      <td>8</td>\n",
       "      <td>staff</td>\n",
       "      <td>friendly</td>\n",
       "      <td>51254</td>\n",
       "    </tr>\n",
       "    <tr>\n",
       "      <td>9</td>\n",
       "      <td>place</td>\n",
       "      <td>love</td>\n",
       "      <td>39988</td>\n",
       "    </tr>\n",
       "  </tbody>\n",
       "</table>\n",
       "</div>"
      ],
      "text/plain": [
       "   aspects   opinions  samples\n",
       "0  service      great   153103\n",
       "1     food      great   140756\n",
       "2     food       good   127177\n",
       "3    place      great    76266\n",
       "4  service       good    68191\n",
       "5     food  delicious    64893\n",
       "6     food    amazing    60859\n",
       "7  service  excellent    56057\n",
       "8    staff   friendly    51254\n",
       "9    place       love    39988"
      ]
     },
     "execution_count": 7,
     "metadata": {},
     "output_type": "execute_result"
    }
   ],
   "source": [
    "pairs_counts.head(10)"
   ]
  },
  {
   "cell_type": "markdown",
   "metadata": {},
   "source": [
    "We have a function that returns a dictionary that gives just the aspects, opinions by themselves and their proportions.\n",
    "\n",
    "You can set different thresholds if you want only a certain number of samples."
   ]
  },
  {
   "cell_type": "code",
   "execution_count": 13,
   "metadata": {},
   "outputs": [],
   "source": [
    "baseline = data_browsing.get_baseline_proportions(pairs_counts, threshold = 250)"
   ]
  },
  {
   "cell_type": "code",
   "execution_count": 16,
   "metadata": {},
   "outputs": [
    {
     "data": {
      "text/html": [
       "<div>\n",
       "<style scoped>\n",
       "    .dataframe tbody tr th:only-of-type {\n",
       "        vertical-align: middle;\n",
       "    }\n",
       "\n",
       "    .dataframe tbody tr th {\n",
       "        vertical-align: top;\n",
       "    }\n",
       "\n",
       "    .dataframe thead th {\n",
       "        text-align: right;\n",
       "    }\n",
       "</style>\n",
       "<table border=\"1\" class=\"dataframe\">\n",
       "  <thead>\n",
       "    <tr style=\"text-align: right;\">\n",
       "      <th></th>\n",
       "      <th>word</th>\n",
       "      <th>samples</th>\n",
       "      <th>proportion</th>\n",
       "    </tr>\n",
       "  </thead>\n",
       "  <tbody>\n",
       "    <tr>\n",
       "      <td>86785</td>\n",
       "      <td>great</td>\n",
       "      <td>962759</td>\n",
       "      <td>0.081549</td>\n",
       "    </tr>\n",
       "    <tr>\n",
       "      <td>84100</td>\n",
       "      <td>good</td>\n",
       "      <td>648601</td>\n",
       "      <td>0.054939</td>\n",
       "    </tr>\n",
       "    <tr>\n",
       "      <td>33022</td>\n",
       "      <td>amazing</td>\n",
       "      <td>337746</td>\n",
       "      <td>0.028608</td>\n",
       "    </tr>\n",
       "    <tr>\n",
       "      <td>40746</td>\n",
       "      <td>best</td>\n",
       "      <td>275076</td>\n",
       "      <td>0.023300</td>\n",
       "    </tr>\n",
       "    <tr>\n",
       "      <td>59601</td>\n",
       "      <td>delicious</td>\n",
       "      <td>259696</td>\n",
       "      <td>0.021997</td>\n",
       "    </tr>\n",
       "    <tr>\n",
       "      <td>123411</td>\n",
       "      <td>nice</td>\n",
       "      <td>235085</td>\n",
       "      <td>0.019912</td>\n",
       "    </tr>\n",
       "    <tr>\n",
       "      <td>69927</td>\n",
       "      <td>excellent</td>\n",
       "      <td>202796</td>\n",
       "      <td>0.017177</td>\n",
       "    </tr>\n",
       "    <tr>\n",
       "      <td>110983</td>\n",
       "      <td>love</td>\n",
       "      <td>172823</td>\n",
       "      <td>0.014639</td>\n",
       "    </tr>\n",
       "    <tr>\n",
       "      <td>37393</td>\n",
       "      <td>awesome</td>\n",
       "      <td>165309</td>\n",
       "      <td>0.014002</td>\n",
       "    </tr>\n",
       "    <tr>\n",
       "      <td>68368</td>\n",
       "      <td>enjoyed</td>\n",
       "      <td>130697</td>\n",
       "      <td>0.011070</td>\n",
       "    </tr>\n",
       "    <tr>\n",
       "      <td>153628</td>\n",
       "      <td>perfect</td>\n",
       "      <td>127631</td>\n",
       "      <td>0.010811</td>\n",
       "    </tr>\n",
       "    <tr>\n",
       "      <td>80696</td>\n",
       "      <td>friendly</td>\n",
       "      <td>126635</td>\n",
       "      <td>0.010726</td>\n",
       "    </tr>\n",
       "    <tr>\n",
       "      <td>76976</td>\n",
       "      <td>favorite</td>\n",
       "      <td>112740</td>\n",
       "      <td>0.009549</td>\n",
       "    </tr>\n",
       "    <tr>\n",
       "      <td>214810</td>\n",
       "      <td>very good</td>\n",
       "      <td>102252</td>\n",
       "      <td>0.008661</td>\n",
       "    </tr>\n",
       "    <tr>\n",
       "      <td>94631</td>\n",
       "      <td>huge</td>\n",
       "      <td>95256</td>\n",
       "      <td>0.008068</td>\n",
       "    </tr>\n",
       "    <tr>\n",
       "      <td>41506</td>\n",
       "      <td>better</td>\n",
       "      <td>89412</td>\n",
       "      <td>0.007573</td>\n",
       "    </tr>\n",
       "    <tr>\n",
       "      <td>169631</td>\n",
       "      <td>really good</td>\n",
       "      <td>87325</td>\n",
       "      <td>0.007397</td>\n",
       "    </tr>\n",
       "    <tr>\n",
       "      <td>75555</td>\n",
       "      <td>fantastic</td>\n",
       "      <td>86869</td>\n",
       "      <td>0.007358</td>\n",
       "    </tr>\n",
       "    <tr>\n",
       "      <td>58031</td>\n",
       "      <td>decent</td>\n",
       "      <td>84599</td>\n",
       "      <td>0.007166</td>\n",
       "    </tr>\n",
       "    <tr>\n",
       "      <td>229879</td>\n",
       "      <td>wonderful</td>\n",
       "      <td>80468</td>\n",
       "      <td>0.006816</td>\n",
       "    </tr>\n",
       "  </tbody>\n",
       "</table>\n",
       "</div>"
      ],
      "text/plain": [
       "               word  samples  proportion\n",
       "86785         great   962759    0.081549\n",
       "84100          good   648601    0.054939\n",
       "33022       amazing   337746    0.028608\n",
       "40746          best   275076    0.023300\n",
       "59601     delicious   259696    0.021997\n",
       "123411         nice   235085    0.019912\n",
       "69927     excellent   202796    0.017177\n",
       "110983         love   172823    0.014639\n",
       "37393       awesome   165309    0.014002\n",
       "68368       enjoyed   130697    0.011070\n",
       "153628      perfect   127631    0.010811\n",
       "80696      friendly   126635    0.010726\n",
       "76976      favorite   112740    0.009549\n",
       "214810    very good   102252    0.008661\n",
       "94631          huge    95256    0.008068\n",
       "41506        better    89412    0.007573\n",
       "169631  really good    87325    0.007397\n",
       "75555     fantastic    86869    0.007358\n",
       "58031        decent    84599    0.007166\n",
       "229879    wonderful    80468    0.006816"
      ]
     },
     "execution_count": 16,
     "metadata": {},
     "output_type": "execute_result"
    }
   ],
   "source": [
    "baseline['opinions'].head(20)"
   ]
  },
  {
   "cell_type": "code",
   "execution_count": 17,
   "metadata": {},
   "outputs": [
    {
     "data": {
      "text/html": [
       "<div>\n",
       "<style scoped>\n",
       "    .dataframe tbody tr th:only-of-type {\n",
       "        vertical-align: middle;\n",
       "    }\n",
       "\n",
       "    .dataframe tbody tr th {\n",
       "        vertical-align: top;\n",
       "    }\n",
       "\n",
       "    .dataframe thead th {\n",
       "        text-align: right;\n",
       "    }\n",
       "</style>\n",
       "<table border=\"1\" class=\"dataframe\">\n",
       "  <thead>\n",
       "    <tr style=\"text-align: right;\">\n",
       "      <th></th>\n",
       "      <th>word</th>\n",
       "      <th>samples</th>\n",
       "      <th>proportion</th>\n",
       "    </tr>\n",
       "  </thead>\n",
       "  <tbody>\n",
       "    <tr>\n",
       "      <td>122880</td>\n",
       "      <td>food</td>\n",
       "      <td>1127427</td>\n",
       "      <td>0.095497</td>\n",
       "    </tr>\n",
       "    <tr>\n",
       "      <td>211107</td>\n",
       "      <td>service</td>\n",
       "      <td>876747</td>\n",
       "      <td>0.074263</td>\n",
       "    </tr>\n",
       "    <tr>\n",
       "      <td>183262</td>\n",
       "      <td>place</td>\n",
       "      <td>609055</td>\n",
       "      <td>0.051589</td>\n",
       "    </tr>\n",
       "    <tr>\n",
       "      <td>226097</td>\n",
       "      <td>staff</td>\n",
       "      <td>261584</td>\n",
       "      <td>0.022157</td>\n",
       "    </tr>\n",
       "    <tr>\n",
       "      <td>190595</td>\n",
       "      <td>prices</td>\n",
       "      <td>246428</td>\n",
       "      <td>0.020873</td>\n",
       "    </tr>\n",
       "    <tr>\n",
       "      <td>197375</td>\n",
       "      <td>restaurant</td>\n",
       "      <td>189956</td>\n",
       "      <td>0.016090</td>\n",
       "    </tr>\n",
       "    <tr>\n",
       "      <td>209284</td>\n",
       "      <td>server</td>\n",
       "      <td>150768</td>\n",
       "      <td>0.012771</td>\n",
       "    </tr>\n",
       "    <tr>\n",
       "      <td>116232</td>\n",
       "      <td>experience</td>\n",
       "      <td>149394</td>\n",
       "      <td>0.012654</td>\n",
       "    </tr>\n",
       "    <tr>\n",
       "      <td>57014</td>\n",
       "      <td>atmosphere</td>\n",
       "      <td>128657</td>\n",
       "      <td>0.010898</td>\n",
       "    </tr>\n",
       "    <tr>\n",
       "      <td>160235</td>\n",
       "      <td>meal</td>\n",
       "      <td>125952</td>\n",
       "      <td>0.010669</td>\n",
       "    </tr>\n",
       "    <tr>\n",
       "      <td>115885</td>\n",
       "      <td>everything</td>\n",
       "      <td>112550</td>\n",
       "      <td>0.009533</td>\n",
       "    </tr>\n",
       "    <tr>\n",
       "      <td>182658</td>\n",
       "      <td>pizza</td>\n",
       "      <td>98589</td>\n",
       "      <td>0.008351</td>\n",
       "    </tr>\n",
       "    <tr>\n",
       "      <td>120878</td>\n",
       "      <td>flavor</td>\n",
       "      <td>95053</td>\n",
       "      <td>0.008051</td>\n",
       "    </tr>\n",
       "    <tr>\n",
       "      <td>103428</td>\n",
       "      <td>customer service</td>\n",
       "      <td>92730</td>\n",
       "      <td>0.007855</td>\n",
       "    </tr>\n",
       "    <tr>\n",
       "      <td>188023</td>\n",
       "      <td>portions</td>\n",
       "      <td>84099</td>\n",
       "      <td>0.007123</td>\n",
       "    </tr>\n",
       "    <tr>\n",
       "      <td>111289</td>\n",
       "      <td>drinks</td>\n",
       "      <td>77763</td>\n",
       "      <td>0.006587</td>\n",
       "    </tr>\n",
       "    <tr>\n",
       "      <td>162385</td>\n",
       "      <td>menu</td>\n",
       "      <td>77054</td>\n",
       "      <td>0.006527</td>\n",
       "    </tr>\n",
       "    <tr>\n",
       "      <td>200671</td>\n",
       "      <td>room</td>\n",
       "      <td>72056</td>\n",
       "      <td>0.006103</td>\n",
       "    </tr>\n",
       "    <tr>\n",
       "      <td>75858</td>\n",
       "      <td>burger</td>\n",
       "      <td>66615</td>\n",
       "      <td>0.005643</td>\n",
       "    </tr>\n",
       "    <tr>\n",
       "      <td>105095</td>\n",
       "      <td>decor</td>\n",
       "      <td>65197</td>\n",
       "      <td>0.005522</td>\n",
       "    </tr>\n",
       "  </tbody>\n",
       "</table>\n",
       "</div>"
      ],
      "text/plain": [
       "                    word  samples  proportion\n",
       "122880              food  1127427    0.095497\n",
       "211107           service   876747    0.074263\n",
       "183262             place   609055    0.051589\n",
       "226097             staff   261584    0.022157\n",
       "190595            prices   246428    0.020873\n",
       "197375        restaurant   189956    0.016090\n",
       "209284            server   150768    0.012771\n",
       "116232        experience   149394    0.012654\n",
       "57014         atmosphere   128657    0.010898\n",
       "160235              meal   125952    0.010669\n",
       "115885        everything   112550    0.009533\n",
       "182658             pizza    98589    0.008351\n",
       "120878            flavor    95053    0.008051\n",
       "103428  customer service    92730    0.007855\n",
       "188023          portions    84099    0.007123\n",
       "111289            drinks    77763    0.006587\n",
       "162385              menu    77054    0.006527\n",
       "200671              room    72056    0.006103\n",
       "75858             burger    66615    0.005643\n",
       "105095             decor    65197    0.005522"
      ]
     },
     "execution_count": 17,
     "metadata": {},
     "output_type": "execute_result"
    }
   ],
   "source": [
    "baseline['aspects'].head(20)"
   ]
  },
  {
   "cell_type": "markdown",
   "metadata": {},
   "source": [
    "We can get the aspects/opinions dataframe associated with a certain word. For example, we will see the opinions people are using to talk about ambiance"
   ]
  },
  {
   "cell_type": "code",
   "execution_count": 20,
   "metadata": {},
   "outputs": [],
   "source": [
    "ambiance_counts = data_browsing.get_counts_for_word('ambiance', pairs_counts, wordtype= 'aspects')"
   ]
  },
  {
   "cell_type": "code",
   "execution_count": 22,
   "metadata": {},
   "outputs": [
    {
     "data": {
      "text/html": [
       "<div>\n",
       "<style scoped>\n",
       "    .dataframe tbody tr th:only-of-type {\n",
       "        vertical-align: middle;\n",
       "    }\n",
       "\n",
       "    .dataframe tbody tr th {\n",
       "        vertical-align: top;\n",
       "    }\n",
       "\n",
       "    .dataframe thead th {\n",
       "        text-align: right;\n",
       "    }\n",
       "</style>\n",
       "<table border=\"1\" class=\"dataframe\">\n",
       "  <thead>\n",
       "    <tr style=\"text-align: right;\">\n",
       "      <th></th>\n",
       "      <th>opinions</th>\n",
       "      <th>samples</th>\n",
       "    </tr>\n",
       "  </thead>\n",
       "  <tbody>\n",
       "    <tr>\n",
       "      <td>102</td>\n",
       "      <td>great</td>\n",
       "      <td>6818</td>\n",
       "    </tr>\n",
       "    <tr>\n",
       "      <td>146</td>\n",
       "      <td>nice</td>\n",
       "      <td>5139</td>\n",
       "    </tr>\n",
       "    <tr>\n",
       "      <td>503</td>\n",
       "      <td>love</td>\n",
       "      <td>1751</td>\n",
       "    </tr>\n",
       "    <tr>\n",
       "      <td>625</td>\n",
       "      <td>good</td>\n",
       "      <td>1430</td>\n",
       "    </tr>\n",
       "    <tr>\n",
       "      <td>954</td>\n",
       "      <td>beautiful</td>\n",
       "      <td>962</td>\n",
       "    </tr>\n",
       "    <tr>\n",
       "      <td>1002</td>\n",
       "      <td>amazing</td>\n",
       "      <td>912</td>\n",
       "    </tr>\n",
       "    <tr>\n",
       "      <td>1066</td>\n",
       "      <td>very nice</td>\n",
       "      <td>861</td>\n",
       "    </tr>\n",
       "    <tr>\n",
       "      <td>1077</td>\n",
       "      <td>perfect</td>\n",
       "      <td>855</td>\n",
       "    </tr>\n",
       "    <tr>\n",
       "      <td>1111</td>\n",
       "      <td>cool</td>\n",
       "      <td>832</td>\n",
       "    </tr>\n",
       "    <tr>\n",
       "      <td>1385</td>\n",
       "      <td>enjoyed</td>\n",
       "      <td>679</td>\n",
       "    </tr>\n",
       "  </tbody>\n",
       "</table>\n",
       "</div>"
      ],
      "text/plain": [
       "       opinions  samples\n",
       "102       great     6818\n",
       "146        nice     5139\n",
       "503        love     1751\n",
       "625        good     1430\n",
       "954   beautiful      962\n",
       "1002    amazing      912\n",
       "1066  very nice      861\n",
       "1077    perfect      855\n",
       "1111       cool      832\n",
       "1385    enjoyed      679"
      ]
     },
     "execution_count": 22,
     "metadata": {},
     "output_type": "execute_result"
    }
   ],
   "source": [
    "ambiance_counts.head(10)"
   ]
  },
  {
   "cell_type": "markdown",
   "metadata": {},
   "source": [
    "The goal here is to compare the proportions of these samples with the baseline. If $p_a(w)$ is the proportion of the opinions that are $w$ in the ambiance dataframe, and $p(w)$ is the proportion of $w$ in the baseline, then the \"change\" score is $\\frac{p_a(w) - p(w)}{p(w)}$. We find this by calling a function:"
   ]
  },
  {
   "cell_type": "code",
   "execution_count": 24,
   "metadata": {},
   "outputs": [],
   "source": [
    "# here the threshold is the number of times it must be mentioned in the ambiance df\n",
    "\n",
    "ambiance_scores = data_browsing.get_pct_change_df(ambiance_counts, baseline['opinions'], threshold = 50)"
   ]
  },
  {
   "cell_type": "code",
   "execution_count": 25,
   "metadata": {},
   "outputs": [
    {
     "data": {
      "text/html": [
       "<div>\n",
       "<style scoped>\n",
       "    .dataframe tbody tr th:only-of-type {\n",
       "        vertical-align: middle;\n",
       "    }\n",
       "\n",
       "    .dataframe tbody tr th {\n",
       "        vertical-align: top;\n",
       "    }\n",
       "\n",
       "    .dataframe thead th {\n",
       "        text-align: right;\n",
       "    }\n",
       "</style>\n",
       "<table border=\"1\" class=\"dataframe\">\n",
       "  <thead>\n",
       "    <tr style=\"text-align: right;\">\n",
       "      <th></th>\n",
       "      <th>word</th>\n",
       "      <th>samples</th>\n",
       "      <th>proportion</th>\n",
       "      <th>baseline_prop</th>\n",
       "      <th>change</th>\n",
       "    </tr>\n",
       "  </thead>\n",
       "  <tbody>\n",
       "    <tr>\n",
       "      <td>47</td>\n",
       "      <td>very romantic</td>\n",
       "      <td>112</td>\n",
       "      <td>0.002599</td>\n",
       "      <td>0.000065</td>\n",
       "      <td>39.111591</td>\n",
       "    </tr>\n",
       "    <tr>\n",
       "      <td>18</td>\n",
       "      <td>romantic</td>\n",
       "      <td>302</td>\n",
       "      <td>0.007008</td>\n",
       "      <td>0.000205</td>\n",
       "      <td>33.204589</td>\n",
       "    </tr>\n",
       "    <tr>\n",
       "      <td>48</td>\n",
       "      <td>hip</td>\n",
       "      <td>104</td>\n",
       "      <td>0.002413</td>\n",
       "      <td>0.000095</td>\n",
       "      <td>24.395325</td>\n",
       "    </tr>\n",
       "    <tr>\n",
       "      <td>72</td>\n",
       "      <td>chic</td>\n",
       "      <td>66</td>\n",
       "      <td>0.001532</td>\n",
       "      <td>0.000071</td>\n",
       "      <td>20.501128</td>\n",
       "    </tr>\n",
       "    <tr>\n",
       "      <td>85</td>\n",
       "      <td>4 stars</td>\n",
       "      <td>56</td>\n",
       "      <td>0.001300</td>\n",
       "      <td>0.000064</td>\n",
       "      <td>19.402505</td>\n",
       "    </tr>\n",
       "    <tr>\n",
       "      <td>17</td>\n",
       "      <td>casual</td>\n",
       "      <td>332</td>\n",
       "      <td>0.007705</td>\n",
       "      <td>0.000392</td>\n",
       "      <td>18.633109</td>\n",
       "    </tr>\n",
       "    <tr>\n",
       "      <td>19</td>\n",
       "      <td>classy</td>\n",
       "      <td>266</td>\n",
       "      <td>0.006173</td>\n",
       "      <td>0.000325</td>\n",
       "      <td>18.008280</td>\n",
       "    </tr>\n",
       "    <tr>\n",
       "      <td>86</td>\n",
       "      <td>sophisticated</td>\n",
       "      <td>54</td>\n",
       "      <td>0.001253</td>\n",
       "      <td>0.000067</td>\n",
       "      <td>17.680215</td>\n",
       "    </tr>\n",
       "    <tr>\n",
       "      <td>29</td>\n",
       "      <td>chilled</td>\n",
       "      <td>177</td>\n",
       "      <td>0.004108</td>\n",
       "      <td>0.000230</td>\n",
       "      <td>16.828617</td>\n",
       "    </tr>\n",
       "    <tr>\n",
       "      <td>13</td>\n",
       "      <td>relaxing</td>\n",
       "      <td>464</td>\n",
       "      <td>0.010768</td>\n",
       "      <td>0.000619</td>\n",
       "      <td>16.383439</td>\n",
       "    </tr>\n",
       "  </tbody>\n",
       "</table>\n",
       "</div>"
      ],
      "text/plain": [
       "             word  samples  proportion  baseline_prop     change\n",
       "47  very romantic      112    0.002599       0.000065  39.111591\n",
       "18       romantic      302    0.007008       0.000205  33.204589\n",
       "48            hip      104    0.002413       0.000095  24.395325\n",
       "72           chic       66    0.001532       0.000071  20.501128\n",
       "85        4 stars       56    0.001300       0.000064  19.402505\n",
       "17         casual      332    0.007705       0.000392  18.633109\n",
       "19         classy      266    0.006173       0.000325  18.008280\n",
       "86  sophisticated       54    0.001253       0.000067  17.680215\n",
       "29        chilled      177    0.004108       0.000230  16.828617\n",
       "13       relaxing      464    0.010768       0.000619  16.383439"
      ]
     },
     "execution_count": 25,
     "metadata": {},
     "output_type": "execute_result"
    }
   ],
   "source": [
    "ambiance_scores.head(10)"
   ]
  },
  {
   "cell_type": "markdown",
   "metadata": {},
   "source": [
    "This whole process could be done in one function."
   ]
  },
  {
   "cell_type": "code",
   "execution_count": 28,
   "metadata": {},
   "outputs": [],
   "source": [
    "words = ['ambiance', 'ambience', 'vibe']"
   ]
  },
  {
   "cell_type": "code",
   "execution_count": 30,
   "metadata": {},
   "outputs": [
    {
     "data": {
      "application/vnd.jupyter.widget-view+json": {
       "model_id": "fabcca57839d4289ba75e38f637fbcfa",
       "version_major": 2,
       "version_minor": 0
      },
      "text/plain": [
       "HBox(children=(FloatProgress(value=0.0, max=3.0), HTML(value='')))"
      ]
     },
     "metadata": {},
     "output_type": "display_data"
    },
    {
     "name": "stdout",
     "output_type": "stream",
     "text": [
      "\n"
     ]
    }
   ],
   "source": [
    "output_dictionary = data_browsing.get_pct_change_for_words(pairs_counts,\n",
    "                                       words, wordtype= 'aspects', threshold = 50, baseline_threshold= 500)"
   ]
  },
  {
   "cell_type": "code",
   "execution_count": 31,
   "metadata": {},
   "outputs": [
    {
     "data": {
      "text/html": [
       "<div>\n",
       "<style scoped>\n",
       "    .dataframe tbody tr th:only-of-type {\n",
       "        vertical-align: middle;\n",
       "    }\n",
       "\n",
       "    .dataframe tbody tr th {\n",
       "        vertical-align: top;\n",
       "    }\n",
       "\n",
       "    .dataframe thead th {\n",
       "        text-align: right;\n",
       "    }\n",
       "</style>\n",
       "<table border=\"1\" class=\"dataframe\">\n",
       "  <thead>\n",
       "    <tr style=\"text-align: right;\">\n",
       "      <th></th>\n",
       "      <th>word</th>\n",
       "      <th>samples</th>\n",
       "      <th>proportion</th>\n",
       "      <th>baseline_prop</th>\n",
       "      <th>change</th>\n",
       "    </tr>\n",
       "  </thead>\n",
       "  <tbody>\n",
       "    <tr>\n",
       "      <td>47</td>\n",
       "      <td>very romantic</td>\n",
       "      <td>112</td>\n",
       "      <td>0.002599</td>\n",
       "      <td>0.000065</td>\n",
       "      <td>39.111591</td>\n",
       "    </tr>\n",
       "    <tr>\n",
       "      <td>18</td>\n",
       "      <td>romantic</td>\n",
       "      <td>302</td>\n",
       "      <td>0.007008</td>\n",
       "      <td>0.000205</td>\n",
       "      <td>33.204589</td>\n",
       "    </tr>\n",
       "    <tr>\n",
       "      <td>48</td>\n",
       "      <td>hip</td>\n",
       "      <td>104</td>\n",
       "      <td>0.002413</td>\n",
       "      <td>0.000095</td>\n",
       "      <td>24.395325</td>\n",
       "    </tr>\n",
       "    <tr>\n",
       "      <td>72</td>\n",
       "      <td>chic</td>\n",
       "      <td>66</td>\n",
       "      <td>0.001532</td>\n",
       "      <td>0.000071</td>\n",
       "      <td>20.501128</td>\n",
       "    </tr>\n",
       "    <tr>\n",
       "      <td>85</td>\n",
       "      <td>4 stars</td>\n",
       "      <td>56</td>\n",
       "      <td>0.001300</td>\n",
       "      <td>0.000064</td>\n",
       "      <td>19.402505</td>\n",
       "    </tr>\n",
       "  </tbody>\n",
       "</table>\n",
       "</div>"
      ],
      "text/plain": [
       "             word  samples  proportion  baseline_prop     change\n",
       "47  very romantic      112    0.002599       0.000065  39.111591\n",
       "18       romantic      302    0.007008       0.000205  33.204589\n",
       "48            hip      104    0.002413       0.000095  24.395325\n",
       "72           chic       66    0.001532       0.000071  20.501128\n",
       "85        4 stars       56    0.001300       0.000064  19.402505"
      ]
     },
     "execution_count": 31,
     "metadata": {},
     "output_type": "execute_result"
    }
   ],
   "source": [
    "output_dictionary['ambiance'].head(5)"
   ]
  },
  {
   "cell_type": "code",
   "execution_count": 32,
   "metadata": {},
   "outputs": [
    {
     "data": {
      "text/html": [
       "<div>\n",
       "<style scoped>\n",
       "    .dataframe tbody tr th:only-of-type {\n",
       "        vertical-align: middle;\n",
       "    }\n",
       "\n",
       "    .dataframe tbody tr th {\n",
       "        vertical-align: top;\n",
       "    }\n",
       "\n",
       "    .dataframe thead th {\n",
       "        text-align: right;\n",
       "    }\n",
       "</style>\n",
       "<table border=\"1\" class=\"dataframe\">\n",
       "  <thead>\n",
       "    <tr style=\"text-align: right;\">\n",
       "      <th></th>\n",
       "      <th>word</th>\n",
       "      <th>samples</th>\n",
       "      <th>proportion</th>\n",
       "      <th>baseline_prop</th>\n",
       "      <th>change</th>\n",
       "    </tr>\n",
       "  </thead>\n",
       "  <tbody>\n",
       "    <tr>\n",
       "      <td>17</td>\n",
       "      <td>romantic</td>\n",
       "      <td>128</td>\n",
       "      <td>0.006998</td>\n",
       "      <td>0.000205</td>\n",
       "      <td>33.151736</td>\n",
       "    </tr>\n",
       "    <tr>\n",
       "      <td>13</td>\n",
       "      <td>casual</td>\n",
       "      <td>204</td>\n",
       "      <td>0.011152</td>\n",
       "      <td>0.000392</td>\n",
       "      <td>27.418853</td>\n",
       "    </tr>\n",
       "    <tr>\n",
       "      <td>32</td>\n",
       "      <td></td>\n",
       "      <td>65</td>\n",
       "      <td>0.003553</td>\n",
       "      <td>0.000136</td>\n",
       "      <td>25.138280</td>\n",
       "    </tr>\n",
       "    <tr>\n",
       "      <td>38</td>\n",
       "      <td>very relaxing</td>\n",
       "      <td>62</td>\n",
       "      <td>0.003389</td>\n",
       "      <td>0.000147</td>\n",
       "      <td>22.117097</td>\n",
       "    </tr>\n",
       "    <tr>\n",
       "      <td>14</td>\n",
       "      <td>relaxing</td>\n",
       "      <td>190</td>\n",
       "      <td>0.010387</td>\n",
       "      <td>0.000619</td>\n",
       "      <td>15.768596</td>\n",
       "    </tr>\n",
       "  </tbody>\n",
       "</table>\n",
       "</div>"
      ],
      "text/plain": [
       "             word  samples  proportion  baseline_prop     change\n",
       "17       romantic      128    0.006998       0.000205  33.151736\n",
       "13         casual      204    0.011152       0.000392  27.418853\n",
       "32                      65    0.003553       0.000136  25.138280\n",
       "38  very relaxing       62    0.003389       0.000147  22.117097\n",
       "14       relaxing      190    0.010387       0.000619  15.768596"
      ]
     },
     "execution_count": 32,
     "metadata": {},
     "output_type": "execute_result"
    }
   ],
   "source": [
    "output_dictionary['ambience'].head(5)"
   ]
  },
  {
   "cell_type": "code",
   "execution_count": 33,
   "metadata": {},
   "outputs": [
    {
     "data": {
      "text/html": [
       "<div>\n",
       "<style scoped>\n",
       "    .dataframe tbody tr th:only-of-type {\n",
       "        vertical-align: middle;\n",
       "    }\n",
       "\n",
       "    .dataframe tbody tr th {\n",
       "        vertical-align: top;\n",
       "    }\n",
       "\n",
       "    .dataframe thead th {\n",
       "        text-align: right;\n",
       "    }\n",
       "</style>\n",
       "<table border=\"1\" class=\"dataframe\">\n",
       "  <thead>\n",
       "    <tr style=\"text-align: right;\">\n",
       "      <th></th>\n",
       "      <th>word</th>\n",
       "      <th>samples</th>\n",
       "      <th>proportion</th>\n",
       "      <th>baseline_prop</th>\n",
       "      <th>change</th>\n",
       "    </tr>\n",
       "  </thead>\n",
       "  <tbody>\n",
       "    <tr>\n",
       "      <td>16</td>\n",
       "      <td>very chill</td>\n",
       "      <td>85</td>\n",
       "      <td>0.006710</td>\n",
       "      <td>0.000063</td>\n",
       "      <td>105.187138</td>\n",
       "    </tr>\n",
       "    <tr>\n",
       "      <td>10</td>\n",
       "      <td>chilled</td>\n",
       "      <td>157</td>\n",
       "      <td>0.012393</td>\n",
       "      <td>0.000230</td>\n",
       "      <td>52.792604</td>\n",
       "    </tr>\n",
       "    <tr>\n",
       "      <td>14</td>\n",
       "      <td>upbeat</td>\n",
       "      <td>99</td>\n",
       "      <td>0.007815</td>\n",
       "      <td>0.000162</td>\n",
       "      <td>47.128785</td>\n",
       "    </tr>\n",
       "    <tr>\n",
       "      <td>9</td>\n",
       "      <td>very cool</td>\n",
       "      <td>183</td>\n",
       "      <td>0.014446</td>\n",
       "      <td>0.000340</td>\n",
       "      <td>41.498514</td>\n",
       "    </tr>\n",
       "    <tr>\n",
       "      <td>19</td>\n",
       "      <td>old school</td>\n",
       "      <td>82</td>\n",
       "      <td>0.006473</td>\n",
       "      <td>0.000155</td>\n",
       "      <td>40.828002</td>\n",
       "    </tr>\n",
       "  </tbody>\n",
       "</table>\n",
       "</div>"
      ],
      "text/plain": [
       "          word  samples  proportion  baseline_prop      change\n",
       "16  very chill       85    0.006710       0.000063  105.187138\n",
       "10     chilled      157    0.012393       0.000230   52.792604\n",
       "14      upbeat       99    0.007815       0.000162   47.128785\n",
       "9    very cool      183    0.014446       0.000340   41.498514\n",
       "19  old school       82    0.006473       0.000155   40.828002"
      ]
     },
     "execution_count": 33,
     "metadata": {},
     "output_type": "execute_result"
    }
   ],
   "source": [
    "output_dictionary['vibe'].head(5)"
   ]
  },
  {
   "cell_type": "markdown",
   "metadata": {},
   "source": [
    "We also have an add_dfs function, which can take a list of dataframes and aggregate their results."
   ]
  },
  {
   "cell_type": "code",
   "execution_count": 34,
   "metadata": {},
   "outputs": [],
   "source": [
    "df1 = data_browsing.get_counts_for_word('ambiance', pairs_counts, wordtype= 'aspects')"
   ]
  },
  {
   "cell_type": "code",
   "execution_count": 35,
   "metadata": {},
   "outputs": [],
   "source": [
    "df2 = data_browsing.get_counts_for_word('ambience', pairs_counts, wordtype= 'aspects')"
   ]
  },
  {
   "cell_type": "code",
   "execution_count": 36,
   "metadata": {},
   "outputs": [],
   "source": [
    "df3 = data_browsing.get_counts_for_word('vibe', pairs_counts, wordtype= 'aspects')"
   ]
  },
  {
   "cell_type": "code",
   "execution_count": 38,
   "metadata": {},
   "outputs": [
    {
     "data": {
      "text/html": [
       "<div>\n",
       "<style scoped>\n",
       "    .dataframe tbody tr th:only-of-type {\n",
       "        vertical-align: middle;\n",
       "    }\n",
       "\n",
       "    .dataframe tbody tr th {\n",
       "        vertical-align: top;\n",
       "    }\n",
       "\n",
       "    .dataframe thead th {\n",
       "        text-align: right;\n",
       "    }\n",
       "</style>\n",
       "<table border=\"1\" class=\"dataframe\">\n",
       "  <thead>\n",
       "    <tr style=\"text-align: right;\">\n",
       "      <th></th>\n",
       "      <th>word</th>\n",
       "      <th>samples</th>\n",
       "    </tr>\n",
       "  </thead>\n",
       "  <tbody>\n",
       "    <tr>\n",
       "      <td>1116</td>\n",
       "      <td>great</td>\n",
       "      <td>11541</td>\n",
       "    </tr>\n",
       "    <tr>\n",
       "      <td>1629</td>\n",
       "      <td>nice</td>\n",
       "      <td>8044</td>\n",
       "    </tr>\n",
       "    <tr>\n",
       "      <td>1084</td>\n",
       "      <td>good</td>\n",
       "      <td>3471</td>\n",
       "    </tr>\n",
       "    <tr>\n",
       "      <td>1457</td>\n",
       "      <td>love</td>\n",
       "      <td>2780</td>\n",
       "    </tr>\n",
       "    <tr>\n",
       "      <td>638</td>\n",
       "      <td>cool</td>\n",
       "      <td>1971</td>\n",
       "    </tr>\n",
       "    <tr>\n",
       "      <td>357</td>\n",
       "      <td>amazing</td>\n",
       "      <td>1566</td>\n",
       "    </tr>\n",
       "    <tr>\n",
       "      <td>420</td>\n",
       "      <td>beautiful</td>\n",
       "      <td>1351</td>\n",
       "    </tr>\n",
       "    <tr>\n",
       "      <td>2023</td>\n",
       "      <td>perfect</td>\n",
       "      <td>1312</td>\n",
       "    </tr>\n",
       "    <tr>\n",
       "      <td>3376</td>\n",
       "      <td>very nice</td>\n",
       "      <td>1285</td>\n",
       "    </tr>\n",
       "    <tr>\n",
       "      <td>402</td>\n",
       "      <td>awesome</td>\n",
       "      <td>1141</td>\n",
       "    </tr>\n",
       "  </tbody>\n",
       "</table>\n",
       "</div>"
      ],
      "text/plain": [
       "           word  samples\n",
       "1116      great    11541\n",
       "1629       nice     8044\n",
       "1084       good     3471\n",
       "1457       love     2780\n",
       "638        cool     1971\n",
       "357     amazing     1566\n",
       "420   beautiful     1351\n",
       "2023    perfect     1312\n",
       "3376  very nice     1285\n",
       "402     awesome     1141"
      ]
     },
     "execution_count": 38,
     "metadata": {},
     "output_type": "execute_result"
    }
   ],
   "source": [
    "data_browsing.add_dfs([df1, df2, df3]).head(10)"
   ]
  },
  {
   "cell_type": "markdown",
   "metadata": {},
   "source": [
    "# Cluster Testing"
   ]
  },
  {
   "cell_type": "code",
   "execution_count": 39,
   "metadata": {},
   "outputs": [],
   "source": [
    "top_aspects = baseline['aspects']['word'].iloc[:100].values"
   ]
  },
  {
   "cell_type": "code",
   "execution_count": 40,
   "metadata": {},
   "outputs": [
    {
     "name": "stdout",
     "output_type": "stream",
     "text": [
      "['food' 'service' 'place' 'staff' 'prices' 'restaurant' 'server'\n",
      " 'experience' 'atmosphere' 'meal' 'everything' 'pizza' 'flavor'\n",
      " 'customer service' 'portions' 'drinks' 'menu' 'room' 'burger' 'decor'\n",
      " 'meat' 'waiter' 'dishes' 'steak' 'location' 'waitress' 'taste' 'seating'\n",
      " 'sauce' 'tables' 'desserts' 'buffet' 'bread' 'fries' 'ambiance' 'dinner'\n",
      " 'chicken' 'sushi' 'coffee' 'music' 'bartender' 'view' 'salad' 'hotel'\n",
      " 'breakfast' 'spot' 'order' 'wait' 'bar' 'time' 'sandwich' 'reviews'\n",
      " 'parking' 'selection' 'quality' 'people' 'dining experience' 'fish'\n",
      " 'lunch' 'employees' 'cook' 'presentation' 'manager' 'broth' 'soup'\n",
      " 'owner' 'noodles' 'crust' 'environment' 'appetizers' 'beer' 'line'\n",
      " 'eating' 'options' 'everyone' 'rice' 'bathroom' 'ingredients'\n",
      " 'wait staff' 'ambience' 'tacos' 'job' 'cocktails' 'hostess' 'pasta'\n",
      " 'plates' 'value' 'recommendations' 'texture' 'wings' 'bed' 'space'\n",
      " 'cheese' 'customers' 'wine' 'serving' 'Mexican food' 'chef' 'casino'\n",
      " 'eggs']\n"
     ]
    }
   ],
   "source": [
    "print(top_aspects)"
   ]
  },
  {
   "cell_type": "code",
   "execution_count": 41,
   "metadata": {},
   "outputs": [],
   "source": [
    "import cluster_testing\n",
    "from scipy.cluster import hierarchy"
   ]
  },
  {
   "cell_type": "markdown",
   "metadata": {},
   "source": [
    "Below gives w2v representation of applicable words, returns those words as well. We also reduce the dimension."
   ]
  },
  {
   "cell_type": "code",
   "execution_count": 42,
   "metadata": {},
   "outputs": [],
   "source": [
    "keys, vectors = cluster_testing.get_keys_vectors(top_aspects)"
   ]
  },
  {
   "cell_type": "code",
   "execution_count": 43,
   "metadata": {},
   "outputs": [
    {
     "name": "stdout",
     "output_type": "stream",
     "text": [
      "25\n"
     ]
    }
   ],
   "source": [
    "# use svd to reduce dim\n",
    "\n",
    "reduced_dim = cluster_testing.find_lower_dim(vectors)\n",
    "\n",
    "print(reduced_dim)"
   ]
  },
  {
   "cell_type": "code",
   "execution_count": 44,
   "metadata": {},
   "outputs": [],
   "source": [
    "reduced_vectors = cluster_testing.reduce_dim(vectors, reduced_dim)"
   ]
  },
  {
   "cell_type": "markdown",
   "metadata": {},
   "source": [
    "We can plot these words using 2-TSNE using one function"
   ]
  },
  {
   "cell_type": "code",
   "execution_count": 46,
   "metadata": {},
   "outputs": [
    {
     "data": {
      "image/png": "[encoded data removed]",
      "text/plain": [
       "<Figure size 1800x1368 with 1 Axes>"
      ]
     },
     "metadata": {
      "needs_background": "light"
     },
     "output_type": "display_data"
    }
   ],
   "source": [
    "cluster_testing.view_words(keys, reduced_vectors)"
   ]
  },
  {
   "cell_type": "markdown",
   "metadata": {},
   "source": [
    "Now we cluster and print the clusters"
   ]
  },
  {
   "cell_type": "code",
   "execution_count": 47,
   "metadata": {},
   "outputs": [],
   "source": [
    "linkage = hierarchy.linkage(reduced_vectors, method = 'ward')\n",
    "clusters = hierarchy.fcluster(linkage, 15, criterion = 'maxclust')"
   ]
  },
  {
   "cell_type": "code",
   "execution_count": 48,
   "metadata": {},
   "outputs": [
    {
     "name": "stdout",
     "output_type": "stream",
     "text": [
      "Cluster 1: ['flavor' 'taste' 'texture']\n",
      "Cluster 2: ['burger' 'fries' 'sandwich' 'tacos' 'wings' 'eggs']\n",
      "Cluster 3: ['meat' 'steak' 'sauce' 'bread' 'chicken' 'salad' 'fish' 'broth' 'soup'\n",
      " 'noodles' 'rice' 'pasta' 'cheese']\n",
      "Cluster 4: ['server' 'waiter' 'waitress' 'bartender' 'manager' 'owner' 'hostess'\n",
      " 'chef']\n",
      "Cluster 5: ['staff' 'people' 'employees' 'customers']\n",
      "Cluster 6: ['reviews']\n",
      "Cluster 7: ['drinks' 'coffee' 'beer' 'cocktails' 'recommendations' 'wine']\n",
      "Cluster 8: ['menu' 'dishes' 'desserts' 'appetizers' 'options' 'ingredients' 'plates']\n",
      "Cluster 9: ['order' 'wait' 'cook' 'line' 'eating' 'serving']\n",
      "Cluster 10: ['food' 'experience' 'meal' 'everything' 'pizza' 'dinner' 'sushi'\n",
      " 'breakfast' 'time' 'lunch' 'crust' 'everyone']\n",
      "Cluster 11: ['atmosphere' 'decor' 'ambiance' 'music' 'environment' 'ambience']\n",
      "Cluster 12: ['service' 'prices' 'portions' 'view' 'selection' 'quality' 'presentation'\n",
      " 'job' 'value']\n",
      "Cluster 13: ['place' 'restaurant' 'location' 'spot']\n",
      "Cluster 14: ['room' 'buffet' 'hotel' 'bathroom' 'bed' 'casino']\n",
      "Cluster 15: ['seating' 'tables' 'bar' 'parking' 'space']\n"
     ]
    }
   ],
   "source": [
    "cluster_testing.print_clusters(keys, clusters)"
   ]
  },
  {
   "cell_type": "markdown",
   "metadata": {},
   "source": [
    "Now we will see which opinions stick out the most for each cluster by aggregating the counts dataframes for each word in the cluster."
   ]
  },
  {
   "cell_type": "code",
   "execution_count": 52,
   "metadata": {},
   "outputs": [
    {
     "data": {
      "application/vnd.jupyter.widget-view+json": {
       "model_id": "2c41ae20941641e2822f0dd3b3abd98c",
       "version_major": 2,
       "version_minor": 0
      },
      "text/plain": [
       "HBox(children=(FloatProgress(value=0.0, max=15.0), HTML(value='')))"
      ]
     },
     "metadata": {},
     "output_type": "display_data"
    },
    {
     "name": "stdout",
     "output_type": "stream",
     "text": [
      "\n"
     ]
    }
   ],
   "source": [
    "cluster_dictionary = dict()\n",
    "cluster_keys = dict()\n",
    "for i in tqdm(range(max(clusters))):\n",
    "    cluster = i + 1\n",
    "    keys_in_clust = np.array(keys)[np.array(clusters) == cluster]\n",
    "    cluster_keys[cluster] = keys_in_clust\n",
    "    keys_counts = [data_browsing.get_counts_for_word(word, pairs_counts) for word in keys_in_clust]\n",
    "    main_df = data_browsing.add_dfs(keys_counts)\n",
    "    cluster_dictionary[cluster] = data_browsing.get_pct_change_df(main_df, baseline['opinions'], threshold = 75)"
   ]
  },
  {
   "cell_type": "code",
   "execution_count": 53,
   "metadata": {},
   "outputs": [
    {
     "name": "stdout",
     "output_type": "stream",
     "text": [
      "Cluster 1\n",
      "['flavor' 'taste' 'texture']\n",
      "['acquired' 'explosion of' 'bursting with' 'full of' 'rich in']\n",
      "\n",
      "\n",
      "Cluster 2\n",
      "['burger' 'fries' 'sandwich' 'tacos' 'wings' 'eggs']\n",
      "['perfectly poached' 'poached' 'boneless' 'extra crispy' 'skinny']\n",
      "\n",
      "\n",
      "Cluster 3\n",
      "['meat' 'steak' 'sauce' 'bread' 'chicken' 'salad' 'fish' 'broth' 'soup'\n",
      " 'noodles' 'rice' 'pasta' 'cheese']\n",
      "['crusty' 'well marinated' 'not dry' 'tender' 'marinated']\n",
      "\n",
      "\n",
      "Cluster 4\n",
      "['server' 'waiter' 'waitress' 'bartender' 'manager' 'owner' 'hostess'\n",
      " 'chef']\n",
      "['nice guy' 'disappeared' 'very apologetic' 'sweetheart' 'not attentive']\n",
      "\n",
      "\n",
      "Cluster 5\n",
      "['staff' 'people' 'employees' 'customers']\n",
      "['loyal' 'always friendly and helpful' 'always right'\n",
      " 'always very friendly' 'always been friendly']\n",
      "\n",
      "\n",
      "Cluster 6\n",
      "['reviews']\n",
      "['long overdue' 'glowing' 'negative' 'honest' 'mixed']\n",
      "\n",
      "\n",
      "Cluster 7\n",
      "['drinks' 'coffee' 'beer' 'cocktails' 'recommendations' 'wine']\n",
      "['highly' 'illy' 'refilled' 'always refilled' 'flowing']\n",
      "\n",
      "\n",
      "Cluster 8\n",
      "['menu' 'dishes' 'desserts' 'appetizers' 'options' 'ingredients' 'plates']\n",
      "['too full' 'quite extensive' 'very extensive' 'pretty extensive'\n",
      " 'fairly simple']\n",
      "\n",
      "\n",
      "Cluster 9\n",
      "['order' 'wait' 'cook' 'line' 'eating' 'serving']\n",
      "['always long' 'pretty long' 'super long' 'not long' 'really long']\n",
      "\n",
      "\n",
      "Cluster 10\n",
      "['food' 'experience' 'meal' 'everything' 'pizza' 'dinner' 'sushi'\n",
      " 'breakfast' 'time' 'lunch' 'crust' 'everyone']\n",
      "['poison' 'thin crust' 'took' 'consistently delicious' 'hot and fresh']\n",
      "\n",
      "\n",
      "Cluster 11\n",
      "['atmosphere' 'decor' 'ambiance' 'music' 'environment' 'ambience']\n",
      "['too loud' 'not too loud' 'little loud' 'bit loud' 'louder']\n",
      "\n",
      "\n",
      "Cluster 12\n",
      "['service' 'prices' 'portions' 'view' 'selection' 'quality' 'presentation'\n",
      " 'job' 'value']\n",
      "['fast friendly' 'so reasonable' 'a bit high' 'fast & friendly'\n",
      " 'more than fair']\n",
      "\n",
      "\n",
      "Cluster 13\n",
      "['place' 'restaurant' 'location' 'spot']\n",
      "['central' 'bookmarked' 'not busy at all' 'practically empty' 'not packed']\n",
      "\n",
      "\n",
      "Cluster 14\n",
      "['room' 'buffet' 'hotel' 'bathroom' 'bed' 'casino']\n",
      "['king size' 'super comfy' 'extremely comfortable' 'super comfortable'\n",
      " 'most comfortable']\n",
      "\n",
      "\n",
      "Cluster 15\n",
      "['seating' 'tables' 'bar' 'parking' 'space']\n",
      "['high top' 'wobbly' 'promptly' 'occupied' 'outdoor']\n",
      "\n",
      "\n"
     ]
    }
   ],
   "source": [
    "for i in range(1, max(clusters) + 1):\n",
    "    print(f'Cluster {i}')\n",
    "    print(cluster_keys[i])\n",
    "    print(cluster_dictionary[i]['word'].values[:5])\n",
    "    print('\\n')"
   ]
  },
  {
   "cell_type": "code",
   "execution_count": 54,
   "metadata": {},
   "outputs": [],
   "source": [
    "pairs_counts.to_csv('pairs_counts.csv')"
   ]
  }
 ],
 "metadata": {
  "kernelspec": {
   "display_name": "Python 3",
   "language": "python",
   "name": "python3"
  },
  "language_info": {
   "codemirror_mode": {
    "name": "ipython",
    "version": 3
   },
   "file_extension": ".py",
   "mimetype": "text/x-python",
   "name": "python",
   "nbconvert_exporter": "python",
   "pygments_lexer": "ipython3",
   "version": "3.7.4"
  }
 },
 "nbformat": 4,
 "nbformat_minor": 2
}
